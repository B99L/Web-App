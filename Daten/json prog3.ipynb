{
 "cells": [
  {
   "cell_type": "code",
   "execution_count": 1,
   "id": "c846845e",
   "metadata": {},
   "outputs": [],
   "source": [
    "#json File einlesen und alle Amenities in der liste a_list speichern und gefilterte Amenities also, dass eine Amenity nur einmal \n",
    "#vorkommt in der Liste b_list gespeichert\n",
    "import pandas as pd\n",
    "import json\n",
    "\n",
    "f = open(\"osm-output.json\")\n",
    "data = json.load(f)['nodes']\n",
    "f.close()\n",
    "a_list = []\n",
    "b_list = []\n",
    "for i in range(0,len(data)):\n",
    "    a_list.append(data[i][\"amenity\"])\n",
    "    if data[i][\"amenity\"] not in b_list:\n",
    "        b_list.append(data[i][\"amenity\"])\n",
    "\n"
   ]
  },
  {
   "cell_type": "code",
   "execution_count": 5,
   "id": "4b527a49",
   "metadata": {},
   "outputs": [
    {
     "name": "stdout",
     "output_type": "stream",
     "text": [
      "fuel 2788\n",
      "parking 6527\n",
      "cafe 2952\n",
      "fast_food 2190\n",
      "restaurant 13667\n",
      "bench 58340\n",
      "bank 2087\n",
      "post_office 1377\n",
      "bicycle_parking 5807\n",
      "recycling 5006\n",
      "parking_entrance 6330\n",
      "vending_machine 11399\n",
      "bar 2023\n",
      "atm 2277\n",
      "kindergarten 1189\n",
      "toilets 4298\n",
      "library 1034\n",
      "post_box 6744\n",
      "school 1260\n",
      "fountain 5004\n",
      "drinking_water 11416\n",
      "pharmacy 1558\n",
      "waste_basket 15189\n",
      "doctors 1609\n",
      "bbq 2427\n",
      "waste_disposal 1054\n",
      "car_sharing 1394\n",
      "charging_station 2137\n"
     ]
    }
   ],
   "source": [
    "#Anzahl Amenities pro Amenity, um herauszufinden welche Amenities am meisten vorkommen\n",
    "for x in b_list:\n",
    "    if (a_list.count(x)>1000):\n",
    "        print(x, a_list.count(x))"
   ]
  },
  {
   "cell_type": "code",
   "execution_count": 4,
   "id": "90bd1295",
   "metadata": {},
   "outputs": [],
   "source": [
    "#Wir haben uns für die 5 Amenities entschiden(Bar, Restaurant, Cafe, BBQ, Fast Food). Alle Daten dieser Amenities in einer\n",
    "#json Datei gespeichert \n",
    "data1=[]\n",
    "for i in range (len(data)):\n",
    "    if data[i]['amenity']=='restaurant' or data[i]['amenity']=='bar'or data[i]['amenity']=='cafe'or data[i]['amenity']=='fast_food'or data[i]['amenity']=='bbq':\n",
    "        data1.append(data[i])\n",
    "\n",
    "jsonRest = json.dumps(data1)\n",
    "with open('json_rest1.json', 'w') as outfile:\n",
    "    outfile.write(jsonRest)"
   ]
  }
 ],
 "metadata": {
  "kernelspec": {
   "display_name": "Python 3 (ipykernel)",
   "language": "python",
   "name": "python3"
  },
  "language_info": {
   "codemirror_mode": {
    "name": "ipython",
    "version": 3
   },
   "file_extension": ".py",
   "mimetype": "text/x-python",
   "name": "python",
   "nbconvert_exporter": "python",
   "pygments_lexer": "ipython3",
   "version": "3.9.12"
  }
 },
 "nbformat": 4,
 "nbformat_minor": 5
}
